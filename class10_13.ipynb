{
 "cells": [
  {
   "cell_type": "markdown",
   "metadata": {},
   "source": [
    "## 哈希表"
   ]
  },
  {
   "cell_type": "code",
   "execution_count": 1,
   "metadata": {},
   "outputs": [],
   "source": [
    "import matplotlib\n",
    "import numpy as np\n",
    "import matplotlib.pyplot as plt\n",
    "from random import choice\n",
    "%matplotlib inline"
   ]
  },
  {
   "cell_type": "code",
   "execution_count": 2,
   "metadata": {},
   "outputs": [],
   "source": [
    "def Hash(x):\n",
    "    return (x*7)%5"
   ]
  },
  {
   "cell_type": "code",
   "execution_count": 3,
   "metadata": {},
   "outputs": [],
   "source": [
    "class HashTable:\n",
    "    def __init__(self,h,n):\n",
    "        self.h = h\n",
    "        self.buckets = [ [] for i in range(n) ]\n",
    "        \n",
    "    def insert(self, x):\n",
    "        self.buckets[self.h(x)].append(x)\n",
    "        \n",
    "    def delete(self,x):\n",
    "        bucket = self.buckets[self.h(x)]\n",
    "        for i in range(len(bucket)):\n",
    "            if bucket[i] == x:\n",
    "                return bucket.pop(i)\n",
    "        return None\n",
    "    \n",
    "    def find(self,x):\n",
    "        bucket = self.buckets[self.h(x)]\n",
    "        for i in range(len(bucket)):\n",
    "            if bucket[i] == x:\n",
    "                return bucket[i]  \n",
    "        return None"
   ]
  },
  {
   "cell_type": "code",
   "execution_count": 4,
   "metadata": {},
   "outputs": [],
   "source": [
    "HT=HashTable(Hash,5)\n",
    "HT.insert(7)\n",
    "HT.insert(5)\n",
    "HT.insert(3)\n",
    "HT.insert(4)\n",
    "HT.insert(1)\n",
    "HT.insert(2)\n",
    "HT.insert(8)"
   ]
  },
  {
   "cell_type": "code",
   "execution_count": 6,
   "metadata": {},
   "outputs": [
    {
     "name": "stdout",
     "output_type": "stream",
     "text": [
      "[[5], [3, 8], [1], [4], [7, 2]]\n"
     ]
    }
   ],
   "source": [
    "print(HT.buckets)"
   ]
  },
  {
   "cell_type": "code",
   "execution_count": 13,
   "metadata": {},
   "outputs": [],
   "source": [
    "import sqlite3"
   ]
  },
  {
   "cell_type": "code",
   "execution_count": 42,
   "metadata": {},
   "outputs": [
    {
     "data": {
      "text/plain": [
       "<sqlite3.Cursor at 0x13e701082d0>"
      ]
     },
     "execution_count": 42,
     "metadata": {},
     "output_type": "execute_result"
    }
   ],
   "source": [
    "db = sqlite3.connect(\"university3.db\")\n",
    "cursor=db.cursor()\n",
    "cursor.execute(\"\"\"CREATE TABLE IF NOT EXISTS students(\n",
    "id integer PRIMARY KEY, \n",
    "name text NOT NULL, \n",
    "gender text NOT NULL, \n",
    "age integer NOT NULL);\"\"\")"
   ]
  },
  {
   "cell_type": "code",
   "execution_count": 43,
   "metadata": {},
   "outputs": [
    {
     "name": "stdout",
     "output_type": "stream",
     "text": [
      "[(1, 'zhangsan', 'male', 18), (2, 'lisi', 'female', 19), (3, 'wangwu', 'male', 17)]\n"
     ]
    }
   ],
   "source": [
    "cursor.execute(\"\"\"INSERT INTO students(id, name, gender, age) \n",
    "VALUES(1, 'zhangsan', 'male', 18)\"\"\")\n",
    "cursor.execute(\"\"\"INSERT INTO students(id, name, gender, age) \n",
    "VALUES(2, 'lisi', 'female', 19)\"\"\")\n",
    "cursor.execute(\"\"\"INSERT INTO students(id, name, gender, age) \n",
    "VALUES(3, 'wangwu', 'male', 17)\"\"\")\n",
    "db.commit()\n",
    "cursor.execute(\"SELECT * FROM students\")\n",
    "print(cursor.fetchall())\n",
    "db.close()"
   ]
  },
  {
   "cell_type": "code",
   "execution_count": 34,
   "metadata": {},
   "outputs": [
    {
     "name": "stdout",
     "output_type": "stream",
     "text": [
      "[(100, 'Python', 'CZ'), (101, 'Algorithm', 'GM'), (102, 'SQL', 'WX')]\n"
     ]
    }
   ],
   "source": [
    "db = sqlite3.connect(\"university2.db\")\n",
    "cursor=db.cursor()\n",
    "cursor.execute(\"\"\"CREATE TABLE IF NOT EXISTS class\n",
    "(id integer PRIMARY KEY, name text NOT NULL, teacher text NOT NULL);\"\"\")\n",
    "cursor.execute(\"\"\"INSERT INTO class(id, name, teacher) \n",
    "VALUES(100, 'Python', 'CZ')\"\"\")\n",
    "cursor.execute(\"\"\"INSERT INTO class(id, name, teacher) \n",
    "VALUES(101, 'Algorithm', 'GM')\"\"\")\n",
    "cursor.execute(\"\"\"INSERT INTO class(id, name, teacher) \n",
    "VALUES(102, 'SQL', 'WX')\"\"\")\n",
    "db.commit()\n",
    "cursor.execute(\"SELECT * FROM class\")\n",
    "print(cursor.fetchall())\n",
    "db.close()"
   ]
  },
  {
   "cell_type": "code",
   "execution_count": null,
   "metadata": {},
   "outputs": [],
   "source": []
  }
 ],
 "metadata": {
  "kernelspec": {
   "display_name": "Python 3",
   "language": "python",
   "name": "python3"
  },
  "language_info": {
   "codemirror_mode": {
    "name": "ipython",
    "version": 3
   },
   "file_extension": ".py",
   "mimetype": "text/x-python",
   "name": "python",
   "nbconvert_exporter": "python",
   "pygments_lexer": "ipython3",
   "version": "3.8.5"
  }
 },
 "nbformat": 4,
 "nbformat_minor": 4
}
