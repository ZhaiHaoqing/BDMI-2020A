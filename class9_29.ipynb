{
 "cells": [
  {
   "cell_type": "markdown",
   "metadata": {},
   "source": [
    "文件操作"
   ]
  },
  {
   "cell_type": "code",
   "execution_count": 2,
   "metadata": {},
   "outputs": [],
   "source": [
    "import os"
   ]
  },
  {
   "cell_type": "markdown",
   "metadata": {},
   "source": [
    "//隐式读取\n",
    "with open(file_path,'r') as simple_file:\n",
    "    for line in simple_file:\n",
    "        print(line.strip())"
   ]
  },
  {
   "cell_type": "markdown",
   "metadata": {},
   "source": [
    "//隐式写入\n",
    "with open(file_path,'w') as my_file:\n",
    "    my_file.write('Hello Python')"
   ]
  },
  {
   "cell_type": "markdown",
   "metadata": {},
   "source": [
    "在Python中 \\ 是转义符，\\u表示其后是UNICODE编码，因此\\User在这里会报错，在字符串前面加个 r（rawstring  原生字符串），可以避免python与正则表达式语法的冲突！"
   ]
  },
  {
   "cell_type": "code",
   "execution_count": 12,
   "metadata": {},
   "outputs": [
    {
     "name": "stdout",
     "output_type": "stream",
     "text": [
      "Hello Python\n"
     ]
    }
   ],
   "source": [
    "with open(r'C:\\Users\\admin\\Desktop\\大二上学期\\大数据与机器智能\\文件\\test.txt','r') as simple_file:\n",
    "    for line in simple_file:\n",
    "        print(line.strip())"
   ]
  },
  {
   "cell_type": "code",
   "execution_count": null,
   "metadata": {},
   "outputs": [],
   "source": [
    "with open(r'C:\\Users\\admin\\Desktop\\大二上学期\\大数据与机器智能\\文件\\test.txt','w') as my_file:\n",
    "    my_file.write('Hello Python')"
   ]
  },
  {
   "cell_type": "code",
   "execution_count": 13,
   "metadata": {},
   "outputs": [
    {
     "data": {
      "text/plain": [
       "'C:\\\\Users\\\\admin\\\\Desktop\\\\大二上学期\\\\大数据与机器智能\\\\文件\\\\test.txt'"
      ]
     },
     "execution_count": 13,
     "metadata": {},
     "output_type": "execute_result"
    }
   ],
   "source": [
    "current_file=os.path.realpath(r'C:\\Users\\admin\\Desktop\\大二上学期\\大数据与机器智能\\文件\\test.txt')\n",
    "current_file"
   ]
  },
  {
   "cell_type": "code",
   "execution_count": 15,
   "metadata": {},
   "outputs": [
    {
     "data": {
      "text/plain": [
       "'C:\\\\Users\\\\admin\\\\Desktop\\\\大二上学期\\\\大数据与机器智能\\\\文件'"
      ]
     },
     "execution_count": 15,
     "metadata": {},
     "output_type": "execute_result"
    }
   ],
   "source": [
    "current_dir=os.path.dirname(r'C:\\Users\\admin\\Desktop\\大二上学期\\大数据与机器智能\\文件\\test.txt')\n",
    "current_dir"
   ]
  },
  {
   "cell_type": "code",
   "execution_count": 19,
   "metadata": {},
   "outputs": [
    {
     "data": {
      "text/plain": [
       "'C:\\\\Users\\\\admin\\\\Desktop\\\\大二上学期\\\\大数据与机器智能\\\\data'"
      ]
     },
     "execution_count": 19,
     "metadata": {},
     "output_type": "execute_result"
    }
   ],
   "source": [
    "data_dir=os.path.join(os.path.dirname(current_dir),'data')\n",
    "data_dir"
   ]
  },
  {
   "cell_type": "code",
   "execution_count": 22,
   "metadata": {},
   "outputs": [],
   "source": [
    "with open(r'C:\\Users\\admin\\Desktop\\大二上学期\\大数据与机器智能\\文件\\test.txt','a') as simple_file:\n",
    "    simple_file.write(\"\\n刘零一 计算机系 \\n郑洪沛 计算机系 \\n谭恺 软件学院\")"
   ]
  },
  {
   "cell_type": "code",
   "execution_count": 24,
   "metadata": {},
   "outputs": [],
   "source": [
    "import numpy as np"
   ]
  },
  {
   "cell_type": "code",
   "execution_count": 49,
   "metadata": {},
   "outputs": [],
   "source": [
    "with open(r'C:\\Users\\admin\\Desktop\\大二上学期\\大数据与机器智能\\文件\\数据集.txt','a') as simple_file:\n",
    "    for i in range(20):\n",
    "        a=np.random.randint(0,100)\n",
    "        simple_file.write(str(a)+' ')"
   ]
  },
  {
   "cell_type": "code",
   "execution_count": 59,
   "metadata": {},
   "outputs": [
    {
     "name": "stdout",
     "output_type": "stream",
     "text": [
      "[61, 92, 96, 28, 36, 52, 39, 55, 97, 55, 85, 88, 95, 95, 42, 4, 16, 59, 43, 28, 52, 1, 92, 55, 54, 98, 6, 95, 49, 61, 7, 53, 87, 31, 60, 45, 12, 67, 76, 18, 4]\n"
     ]
    }
   ],
   "source": [
    "with open(r'C:\\Users\\admin\\Desktop\\大二上学期\\大数据与机器智能\\文件\\数据集.txt','r') as simple_file:\n",
    "    a=simple_file.read()\n",
    "    result=list(map(int,a.split()))\n",
    "print(result)"
   ]
  },
  {
   "cell_type": "code",
   "execution_count": 33,
   "metadata": {},
   "outputs": [],
   "source": [
    "from tkinter import *"
   ]
  },
  {
   "cell_type": "code",
   "execution_count": 36,
   "metadata": {},
   "outputs": [],
   "source": [
    "def click():\n",
    "    name=textbox1.get()\n",
    "    message=str(\"Hello\"+name)\n",
    "    textbox2[\"bg\"]=\"yellow\"\n",
    "    textbox2[\"fg\"]=\"red\"\n",
    "    textbox2[\"text\"]=message\n",
    "\n",
    "window=Tk()\n",
    "window.geometry(\"500x200\")\n",
    "\n",
    "label1=Label(text=\"Enter your name:\")\n",
    "label1.place(x=30,y=20)\n",
    "\n",
    "textbox1=Entry(text=\"\")\n",
    "textbox1.place(x=150,y=20,width=200,height=25)\n",
    "textbox1[\"justify\"]=\"center\"\n",
    "textbox1.focus()\n",
    "\n",
    "button1=Button(text=\"Press me\",command=click)\n",
    "button1.place(x=30,y=50,width=120,height=25)\n",
    "\n",
    "textbox2=Message(text=\"\")\n",
    "textbox2.place(x=150,y=50,width=200,height=25)\n",
    "textbox2[\"bg\"]=\"white\"\n",
    "textbox2[\"fg\"]=\"black\"\n",
    "\n",
    "window.mainloop()"
   ]
  },
  {
   "cell_type": "code",
   "execution_count": 46,
   "metadata": {},
   "outputs": [
    {
     "name": "stdout",
     "output_type": "stream",
     "text": [
      "[1, 2, 3, 5, 7, 9, 11, 12, 13, 15, 16, 17, 19, 20, 22, 28]\n"
     ]
    }
   ],
   "source": [
    "a=[2,5,9,12,16,28]\n",
    "b=[1,3,7,11,13,15,17,19,20,22]\n",
    "c=[]\n",
    "i=0\n",
    "j=0\n",
    "while( i < len(a) or j < len(b)):\n",
    "    if(( i < len(a))and(not( j < len(b))or( a[i]<= b[j]))):\n",
    "        c.append(a[i])\n",
    "        i=i+1\n",
    "    if(( j < len(b))and(not( i < len(a))or( b[j]<= a[i]))):\n",
    "        c.append(b[j])\n",
    "        j=j+1\n",
    "print(c)"
   ]
  },
  {
   "cell_type": "code",
   "execution_count": null,
   "metadata": {},
   "outputs": [],
   "source": []
  }
 ],
 "metadata": {
  "kernelspec": {
   "display_name": "Python 3",
   "language": "python",
   "name": "python3"
  },
  "language_info": {
   "codemirror_mode": {
    "name": "ipython",
    "version": 3
   },
   "file_extension": ".py",
   "mimetype": "text/x-python",
   "name": "python",
   "nbconvert_exporter": "python",
   "pygments_lexer": "ipython3",
   "version": "3.8.5"
  }
 },
 "nbformat": 4,
 "nbformat_minor": 4
}
